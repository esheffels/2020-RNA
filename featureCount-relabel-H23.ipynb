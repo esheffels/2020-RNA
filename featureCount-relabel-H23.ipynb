{
 "cells": [
  {
   "cell_type": "code",
   "execution_count": 38,
   "id": "medium-alfred",
   "metadata": {},
   "outputs": [],
   "source": [
    "import pandas as pd"
   ]
  },
  {
   "cell_type": "code",
   "execution_count": 39,
   "id": "bridal-semester",
   "metadata": {},
   "outputs": [],
   "source": [
    "keytable = pd.read_csv(\"data_keytable.2020.10.27.csv\")\n",
    "featureCount = pd.read_csv(\"runs_20210113-results_featureCounts_merged_gene_counts.txt\", sep=\"\\t\")"
   ]
  },
  {
   "cell_type": "code",
   "execution_count": 40,
   "id": "blind-sharp",
   "metadata": {},
   "outputs": [
    {
     "data": {
      "text/plain": [
       "Index(['E2-78710_S1_L004_R1_001Aligned.sortedByCoord.out.bam',\n",
       "       'E2-78711_S2_L004_R1_001Aligned.sortedByCoord.out.bam',\n",
       "       'E2-78712_S3_L004_R1_001Aligned.sortedByCoord.out.bam',\n",
       "       'E2-78713_S4_L004_R1_001Aligned.sortedByCoord.out.bam',\n",
       "       'E2-78714_S5_L004_R1_001Aligned.sortedByCoord.out.bam',\n",
       "       'E2-78715_S6_L004_R1_001Aligned.sortedByCoord.out.bam',\n",
       "       'E2-78716_S7_L004_R1_001Aligned.sortedByCoord.out.bam',\n",
       "       'E2-78717_S8_L004_R1_001Aligned.sortedByCoord.out.bam',\n",
       "       'E2-78718_S9_L004_R1_001Aligned.sortedByCoord.out.bam',\n",
       "       'E2-78719_S10_L004_R1_001Aligned.sortedByCoord.out.bam',\n",
       "       'E2-78720_S11_L004_R1_001Aligned.sortedByCoord.out.bam',\n",
       "       'E2-78721_S12_L004_R1_001Aligned.sortedByCoord.out.bam',\n",
       "       'E2-78722_S13_L004_R1_001Aligned.sortedByCoord.out.bam',\n",
       "       'E2-78723_S14_L004_R1_001Aligned.sortedByCoord.out.bam',\n",
       "       'E2-78724_S15_L004_R1_001Aligned.sortedByCoord.out.bam',\n",
       "       'E2-78725_S16_L004_R1_001Aligned.sortedByCoord.out.bam',\n",
       "       'E2-78726_S17_L004_R1_001Aligned.sortedByCoord.out.bam',\n",
       "       'E2-78727_S18_L004_R1_001Aligned.sortedByCoord.out.bam',\n",
       "       'E2-78728_S19_L004_R1_001Aligned.sortedByCoord.out.bam',\n",
       "       'E2-78729_S20_L004_R1_001Aligned.sortedByCoord.out.bam',\n",
       "       'E2-78730_S21_L004_R1_001Aligned.sortedByCoord.out.bam',\n",
       "       'E2-78731_S22_L004_R1_001Aligned.sortedByCoord.out.bam',\n",
       "       'E2-78732_S23_L004_R1_001Aligned.sortedByCoord.out.bam',\n",
       "       'E2-78733_S24_L004_R1_001Aligned.sortedByCoord.out.bam',\n",
       "       'E2-78734_S25_L004_R1_001Aligned.sortedByCoord.out.bam',\n",
       "       'E2-78735_S26_L004_R1_001Aligned.sortedByCoord.out.bam',\n",
       "       'E2-78736_S27_L004_R1_001Aligned.sortedByCoord.out.bam',\n",
       "       'E2-78737_S28_L004_R1_001Aligned.sortedByCoord.out.bam',\n",
       "       'E2-78738_S29_L004_R1_001Aligned.sortedByCoord.out.bam',\n",
       "       'E2-78739_S30_L004_R1_001Aligned.sortedByCoord.out.bam',\n",
       "       'E2-78740_S31_L004_R1_001Aligned.sortedByCoord.out.bam',\n",
       "       'E2-78741_S32_L004_R1_001Aligned.sortedByCoord.out.bam',\n",
       "       'E2-78742_S33_L004_R1_001Aligned.sortedByCoord.out.bam',\n",
       "       'E2-78743_S34_L004_R1_001Aligned.sortedByCoord.out.bam',\n",
       "       'E2-78744_S35_L004_R1_001Aligned.sortedByCoord.out.bam',\n",
       "       'E2-78745_S36_L004_R1_001Aligned.sortedByCoord.out.bam',\n",
       "       'E2-78746_S37_L004_R1_001Aligned.sortedByCoord.out.bam',\n",
       "       'E2-78747_S38_L004_R1_001Aligned.sortedByCoord.out.bam',\n",
       "       'E2-78748_S39_L004_R1_001Aligned.sortedByCoord.out.bam',\n",
       "       'E2-78749_S40_L004_R1_001Aligned.sortedByCoord.out.bam',\n",
       "       'E2-78750_S41_L004_R1_001Aligned.sortedByCoord.out.bam',\n",
       "       'E2-78751_S42_L004_R1_001Aligned.sortedByCoord.out.bam',\n",
       "       'E2-78752_S43_L004_R1_001Aligned.sortedByCoord.out.bam',\n",
       "       'E2-78753_S44_L004_R1_001Aligned.sortedByCoord.out.bam',\n",
       "       'E2-78754_S45_L004_R1_001Aligned.sortedByCoord.out.bam',\n",
       "       'E2-78755_S46_L004_R1_001Aligned.sortedByCoord.out.bam',\n",
       "       'E2-78756_S47_L004_R1_001Aligned.sortedByCoord.out.bam',\n",
       "       'E2-78757_S48_L004_R1_001Aligned.sortedByCoord.out.bam',\n",
       "       'E2-78758_S49_L004_R1_001Aligned.sortedByCoord.out.bam',\n",
       "       'E2-78759_S50_L004_R1_001Aligned.sortedByCoord.out.bam',\n",
       "       'E2-78760_S51_L004_R1_001Aligned.sortedByCoord.out.bam',\n",
       "       'E2-78761_S52_L004_R1_001Aligned.sortedByCoord.out.bam',\n",
       "       'E2-78762_S53_L004_R1_001Aligned.sortedByCoord.out.bam',\n",
       "       'E2-78763_S54_L004_R1_001Aligned.sortedByCoord.out.bam'],\n",
       "      dtype='object')"
      ]
     },
     "execution_count": 40,
     "metadata": {},
     "output_type": "execute_result"
    }
   ],
   "source": [
    "featureCount = featureCount.reindex(sorted(featureCount.columns), axis=1)\n",
    "fc_columns = featureCount.columns\n",
    "sample_names = fc_columns[0:-2]\n",
    "sample_names"
   ]
  },
  {
   "cell_type": "code",
   "execution_count": 41,
   "id": "twelve-laptop",
   "metadata": {},
   "outputs": [],
   "source": [
    "sample_list=[]\n",
    "for name in sample_names:\n",
    "    sample_ID = name[0:8]\n",
    "    sample_list.append(sample_ID)"
   ]
  },
  {
   "cell_type": "code",
   "execution_count": 42,
   "id": "corresponding-comfort",
   "metadata": {},
   "outputs": [],
   "source": [
    "file_dict = {name:name[0:8] for name in sample_names}"
   ]
  },
  {
   "cell_type": "code",
   "execution_count": 43,
   "id": "parallel-boating",
   "metadata": {},
   "outputs": [
    {
     "name": "stdout",
     "output_type": "stream",
     "text": [
      "  SampleID-Lab\n",
      "0   ES23NTXX01\n"
     ]
    },
    {
     "data": {
      "text/html": [
       "<div>\n",
       "<style scoped>\n",
       "    .dataframe tbody tr th:only-of-type {\n",
       "        vertical-align: middle;\n",
       "    }\n",
       "\n",
       "    .dataframe tbody tr th {\n",
       "        vertical-align: top;\n",
       "    }\n",
       "\n",
       "    .dataframe thead th {\n",
       "        text-align: right;\n",
       "    }\n",
       "</style>\n",
       "<table border=\"1\" class=\"dataframe\">\n",
       "  <thead>\n",
       "    <tr style=\"text-align: right;\">\n",
       "      <th></th>\n",
       "      <th>SampleID-Lab</th>\n",
       "    </tr>\n",
       "  </thead>\n",
       "  <tbody>\n",
       "    <tr>\n",
       "      <th>0</th>\n",
       "      <td>ES23NTXX01</td>\n",
       "    </tr>\n",
       "  </tbody>\n",
       "</table>\n",
       "</div>"
      ],
      "text/plain": [
       "  SampleID-Lab\n",
       "0   ES23NTXX01"
      ]
     },
     "execution_count": 43,
     "metadata": {},
     "output_type": "execute_result"
    }
   ],
   "source": [
    "lab_ID = keytable.loc[lambda df: df['SampleID'] == sample_list[0], [\"SampleID-Lab\"]]\n",
    "print(lab_ID)\n",
    "ID = lab_ID.iloc[0:1]\n",
    "ID"
   ]
  },
  {
   "cell_type": "code",
   "execution_count": 44,
   "id": "informative-disorder",
   "metadata": {},
   "outputs": [
    {
     "data": {
      "text/plain": [
       "'E2-78710'"
      ]
     },
     "execution_count": 44,
     "metadata": {},
     "output_type": "execute_result"
    }
   ],
   "source": [
    "keytable[\"SampleID\"][0]"
   ]
  },
  {
   "cell_type": "code",
   "execution_count": 45,
   "id": "medieval-publication",
   "metadata": {},
   "outputs": [],
   "source": [
    "ID_dict = {keytable[\"SampleID\"][row]:keytable[\"SampleID-Lab\"][row] for row in keytable.index}"
   ]
  },
  {
   "cell_type": "code",
   "execution_count": 46,
   "id": "pregnant-waters",
   "metadata": {},
   "outputs": [],
   "source": [
    "featureCount.rename(columns=file_dict, inplace=True)\n",
    "featureCount.rename(columns=ID_dict, inplace=True)"
   ]
  },
  {
   "cell_type": "code",
   "execution_count": 47,
   "id": "innovative-insight",
   "metadata": {},
   "outputs": [],
   "source": [
    "#lab_sample_list=[]\n",
    "#for sample in sample_list:\n",
    "#    lab_ID = keytable.loc[keytable['SampleID'] == sample, \"SampleID-Lab\"].values[0]\n",
    "#    lab_sample_list.append(lab_ID)"
   ]
  },
  {
   "cell_type": "code",
   "execution_count": 48,
   "id": "numerical-skiing",
   "metadata": {},
   "outputs": [],
   "source": [
    "#rearrange columns to put geneid and gene name at front\n",
    "columns = featureCount.columns.tolist()\n",
    "columns = columns[-2:] + columns[:-2]"
   ]
  },
  {
   "cell_type": "code",
   "execution_count": 49,
   "id": "wrong-irish",
   "metadata": {},
   "outputs": [],
   "source": [
    "featureCount=featureCount[columns]"
   ]
  },
  {
   "cell_type": "code",
   "execution_count": 13,
   "id": "attended-roots",
   "metadata": {},
   "outputs": [],
   "source": [
    "#write relabeled featureCounts to tsv file\n",
    "featureCount.to_csv(path_or_buf = \"20210113-featureCounts-labIDs.tsv\", sep=\"\\t\")"
   ]
  },
  {
   "cell_type": "code",
   "execution_count": 50,
   "id": "adjacent-connectivity",
   "metadata": {},
   "outputs": [],
   "source": [
    "exp_design = pd.DataFrame()\n",
    "exp_design[\"SampleID-Lab\"]=keytable[\"SampleID-Lab\"]"
   ]
  },
  {
   "cell_type": "code",
   "execution_count": 51,
   "id": "liked-likelihood",
   "metadata": {},
   "outputs": [],
   "source": [
    "info = [\"Cell Line\", \"Inhibition Status\", \"CRISPR\", \"MRTX\", \"BI\", \"SHP2i\", \"Time Point\", \"Population\"]\n",
    "def extract_info(ID, info):\n",
    "    if info == \"Cell Line\":\n",
    "        return ID[2:4]\n",
    "    if info == \"CRISPR\":\n",
    "        return ID[4:6]\n",
    "    if len(ID) != 10:\n",
    "        if info == \"Inhibition Status\":\n",
    "            return ID[4:6] + \"XX\"\n",
    "        if info == \"MRTX\" or info == \"BI\" or info == \"SHP2i\":\n",
    "            return False\n",
    "        if info == \"Time Point\":\n",
    "            return 0\n",
    "        if info == \"Population\":\n",
    "            return \"A\"\n",
    "    else:\n",
    "        if info == \"Inhibition Status\":\n",
    "            return ID[4:8]\n",
    "        if info == \"MRTX\":\n",
    "            if \"M\" in ID[6:8]:\n",
    "                return True\n",
    "            else:\n",
    "                return False\n",
    "        if info == \"BI\":\n",
    "            if \"B\" in ID[6:8]:\n",
    "                return True\n",
    "            else:\n",
    "                return False\n",
    "        if info == \"SHP2i\":\n",
    "            if \"S\" in ID[6:8]:\n",
    "                return True\n",
    "            else:\n",
    "                return False\n",
    "        if info == \"Time Point\":\n",
    "            if int(ID[8:10]) <= 4 and ID[6:8]==\"XX\":\n",
    "                return 0\n",
    "            elif int(ID[8:10]) <= 4:\n",
    "                return 6\n",
    "            else: \n",
    "                return 72\n",
    "        if info == \"Population\":\n",
    "            if int(ID[8:10]) in [1,2,5,6]:\n",
    "                return \"A\"\n",
    "            else:\n",
    "                return \"B\"\n"
   ]
  },
  {
   "cell_type": "code",
   "execution_count": 52,
   "id": "becoming-nutrition",
   "metadata": {},
   "outputs": [],
   "source": [
    "for x in info:\n",
    "    exp_design[x]=exp_design[\"SampleID-Lab\"].apply(lambda row: extract_info(row, x))"
   ]
  },
  {
   "cell_type": "code",
   "execution_count": 17,
   "id": "damaged-trance",
   "metadata": {},
   "outputs": [],
   "source": [
    "#write experimental design to tsv file\n",
    "exp_design.to_csv(path_or_buf = \"20201027-experiment-design.tsv\", sep=\"\\t\")"
   ]
  },
  {
   "cell_type": "code",
   "execution_count": 53,
   "id": "virgin-sacramento",
   "metadata": {},
   "outputs": [],
   "source": [
    "#isolate H23s\n",
    "exp_design_H23 = exp_design[exp_design[\"SampleID-Lab\"].str.contains(\"ES35\")==False]"
   ]
  },
  {
   "cell_type": "code",
   "execution_count": 19,
   "id": "legal-albert",
   "metadata": {},
   "outputs": [],
   "source": [
    "exp_design_H23.to_csv(path_or_buf = \"20201027-H23-experiment-design.tsv\", sep=\"\\t\")"
   ]
  },
  {
   "cell_type": "code",
   "execution_count": 54,
   "id": "indonesian-alpha",
   "metadata": {},
   "outputs": [],
   "source": [
    "#isolate H23s in featureCount\n",
    "featureCount_H23 = featureCount.loc[:,featureCount.columns.str.contains(\"ES35\")==False]"
   ]
  },
  {
   "cell_type": "code",
   "execution_count": 21,
   "id": "electoral-squad",
   "metadata": {},
   "outputs": [],
   "source": [
    "#get list of RTKs from text file from grant Fig 2\n",
    "with open(\"RTKs.txt\") as f:\n",
    "    RTKs = f.read().splitlines()\n",
    "while(\"\" in RTKs) : \n",
    "    RTKs.remove(\"\") "
   ]
  },
  {
   "cell_type": "code",
   "execution_count": 22,
   "id": "dirty-medication",
   "metadata": {},
   "outputs": [],
   "source": [
    "#get list of RTK ligands from text file from grant Fig 2\n",
    "with open(\"RTK-ligands.txt\") as f:\n",
    "    RTK_ligands = f.read().splitlines()\n",
    "while(\"\" in RTK_ligands) : \n",
    "    RTK_ligands.remove(\"\") "
   ]
  },
  {
   "cell_type": "code",
   "execution_count": 20,
   "id": "balanced-penguin",
   "metadata": {},
   "outputs": [],
   "source": [
    "#all_genes = RTKs + RTK_ligands"
   ]
  },
  {
   "cell_type": "code",
   "execution_count": 23,
   "id": "failing-marketplace",
   "metadata": {},
   "outputs": [
    {
     "name": "stdout",
     "output_type": "stream",
     "text": [
      "These genes are not listed in featureCount:\n",
      "PDDGRB\n",
      "RYIK\n"
     ]
    }
   ],
   "source": [
    "good_genes = []\n",
    "#check that genes are named in featureCount\n",
    "print(\"These genes are not listed in featureCount:\")\n",
    "for gene in RTKs:\n",
    "    if gene in featureCount[\"gene_name\"].tolist():\n",
    "        good_genes.append(gene)\n",
    "    else:\n",
    "        print(gene)"
   ]
  },
  {
   "cell_type": "code",
   "execution_count": 25,
   "id": "convertible-iraqi",
   "metadata": {},
   "outputs": [],
   "source": [
    "#make featureCount dataframe with existing RTK/RTK ligand genes\n",
    "featureCount_RTK_H23 = featureCount_H23[featureCount_H23[\"gene_name\"].isin(good_genes)]"
   ]
  },
  {
   "cell_type": "code",
   "execution_count": 26,
   "id": "informed-fantasy",
   "metadata": {},
   "outputs": [],
   "source": [
    "#isolate H23s in featureCount_RTK\n",
    "#featureCount_RTK_H23 = featureCount_RTK.loc[:,featureCount_RTK.columns.str.contains(\"ES35\")==False]"
   ]
  },
  {
   "cell_type": "code",
   "execution_count": 27,
   "id": "instructional-alpha",
   "metadata": {},
   "outputs": [],
   "source": [
    "#write featureCount_RTK_H23 to tsv\n",
    "featureCount_RTK_H23.to_csv(path_or_buf = \"20210113-featureCounts-H23-RTK.tsv\", sep=\"\\t\")"
   ]
  },
  {
   "cell_type": "code",
   "execution_count": 28,
   "id": "concrete-dealer",
   "metadata": {},
   "outputs": [],
   "source": [
    "#featureCount_RTK_H23.loc[featureCount_RTK_H23[\"Geneid\"] == \"ENSG00000124882\"]"
   ]
  },
  {
   "cell_type": "code",
   "execution_count": 29,
   "id": "stuffed-teacher",
   "metadata": {},
   "outputs": [
    {
     "name": "stdout",
     "output_type": "stream",
     "text": [
      "These genes are not listed in featureCount:\n",
      "SCF\n",
      "CLC11A\n"
     ]
    }
   ],
   "source": [
    "#create feature count with RTK ligands\n",
    "good_genes = []\n",
    "#check that genes are named in featureCount\n",
    "print(\"These genes are not listed in featureCount:\")\n",
    "for gene in RTK_ligands:\n",
    "    if gene in featureCount[\"gene_name\"].tolist():\n",
    "        good_genes.append(gene)\n",
    "    else:\n",
    "        print(gene)"
   ]
  },
  {
   "cell_type": "code",
   "execution_count": 30,
   "id": "victorian-damage",
   "metadata": {},
   "outputs": [],
   "source": [
    "#make featureCount dataframe with existing RTK/RTK ligand genes\n",
    "featureCount_RTK_lig_H23 = featureCount_H23[featureCount_H23[\"gene_name\"].isin(good_genes)]"
   ]
  },
  {
   "cell_type": "code",
   "execution_count": 31,
   "id": "representative-simulation",
   "metadata": {},
   "outputs": [],
   "source": [
    "#write featureCount_RTK_H23 to tsv\n",
    "featureCount_RTK_lig_H23.to_csv(path_or_buf = \"20210113-featureCounts-H23-RTK_lig.tsv\", sep=\"\\t\")"
   ]
  },
  {
   "cell_type": "code",
   "execution_count": null,
   "id": "industrial-corruption",
   "metadata": {},
   "outputs": [],
   "source": [
    "#ERK featureCount\n"
   ]
  },
  {
   "cell_type": "code",
   "execution_count": 35,
   "id": "technological-prisoner",
   "metadata": {},
   "outputs": [],
   "source": [
    "#ERK Signature gene list\n",
    "with open(\"ERK_KEGG_geneset.txt\") as f:\n",
    "    ERK_KEGG = f.read().splitlines()\n"
   ]
  },
  {
   "cell_type": "code",
   "execution_count": 36,
   "id": "focal-peninsula",
   "metadata": {},
   "outputs": [
    {
     "name": "stdout",
     "output_type": "stream",
     "text": [
      "These genes are not listed in featureCount:\n",
      "MAP3K20\n"
     ]
    }
   ],
   "source": [
    "ERK_genes = []\n",
    "#check that genes are named in featureCount\n",
    "print(\"These genes are not listed in featureCount:\")\n",
    "for gene in ERK_KEGG:\n",
    "    if gene in featureCount[\"gene_name\"].tolist():\n",
    "        ERK_genes.append(gene)\n",
    "    else:\n",
    "        print(gene)"
   ]
  },
  {
   "cell_type": "code",
   "execution_count": 37,
   "id": "beginning-trinidad",
   "metadata": {},
   "outputs": [],
   "source": [
    "#make featureCount dataframe with existing RTK/RTK ligand genes\n",
    "featureCount_ERK = featureCount_H23[featureCount_H23[\"gene_name\"].isin(ERK_genes)]\n",
    "#write featureCount_RTK_H23 to tsv\n",
    "featureCount_ERK.to_csv(path_or_buf = \"20210113-featureCounts-H23-ERK.tsv\", sep=\"\\t\")"
   ]
  },
  {
   "cell_type": "code",
   "execution_count": null,
   "id": "prerequisite-russell",
   "metadata": {},
   "outputs": [],
   "source": []
  },
  {
   "cell_type": "code",
   "execution_count": 57,
   "id": "super-memorabilia",
   "metadata": {},
   "outputs": [],
   "source": [
    "#Ephrin gene list\n",
    "with open(\"Ephrin genes txt.txt\") as f:\n",
    "    Ephrins = f.read().splitlines()\n"
   ]
  },
  {
   "cell_type": "code",
   "execution_count": 58,
   "id": "increased-maple",
   "metadata": {},
   "outputs": [
    {
     "name": "stdout",
     "output_type": "stream",
     "text": [
      "These genes are not listed in featureCount:\n"
     ]
    }
   ],
   "source": [
    "good_genes = []\n",
    "#check that genes are named in featureCount\n",
    "print(\"These genes are not listed in featureCount:\")\n",
    "for gene in Ephrins:\n",
    "    if gene in featureCount[\"gene_name\"].tolist():\n",
    "        good_genes.append(gene)\n",
    "    else:\n",
    "        print(gene)"
   ]
  },
  {
   "cell_type": "code",
   "execution_count": 59,
   "id": "alien-swift",
   "metadata": {},
   "outputs": [],
   "source": [
    "#make featureCount dataframe with existing RTK/RTK ligand genes\n",
    "featureCount_ephrin = featureCount_H23[featureCount_H23[\"gene_name\"].isin(good_genes)]\n",
    "#write featureCount_RTK_H23 to tsv\n",
    "featureCount_ephrin.to_csv(path_or_buf = \"20210113-featureCounts-H23-ephrin.tsv\", sep=\"\\t\")"
   ]
  },
  {
   "cell_type": "code",
   "execution_count": null,
   "id": "golden-cambodia",
   "metadata": {},
   "outputs": [],
   "source": []
  }
 ],
 "metadata": {
  "environment": {
   "name": "r-cpu.3-6.mnightly-2021-01-20-debian-10-test",
   "type": "gcloud",
   "uri": "gcr.io/deeplearning-platform-release/r-cpu.3-6:mnightly-2021-01-20-debian-10-test"
  },
  "kernelspec": {
   "display_name": "Python 3",
   "language": "python",
   "name": "python3"
  },
  "language_info": {
   "codemirror_mode": {
    "name": "ipython",
    "version": 3
   },
   "file_extension": ".py",
   "mimetype": "text/x-python",
   "name": "python",
   "nbconvert_exporter": "python",
   "pygments_lexer": "ipython3",
   "version": "3.7.9"
  }
 },
 "nbformat": 4,
 "nbformat_minor": 5
}
