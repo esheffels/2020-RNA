{
 "cells": [
  {
   "cell_type": "code",
   "execution_count": 2,
   "metadata": {},
   "outputs": [
    {
     "name": "stdout",
     "output_type": "stream",
     "text": [
      "Requirement already up-to-date: google-cloud-storage in /opt/conda/lib/python3.7/site-packages (1.32.0)\n",
      "Requirement already satisfied, skipping upgrade: google-resumable-media<2.0dev,>=1.0.0 in /opt/conda/lib/python3.7/site-packages (from google-cloud-storage) (1.1.0)\n",
      "Requirement already satisfied, skipping upgrade: google-cloud-core<2.0dev,>=1.4.1 in /opt/conda/lib/python3.7/site-packages (from google-cloud-storage) (1.4.3)\n",
      "Requirement already satisfied, skipping upgrade: google-auth<2.0dev,>=1.11.0 in /opt/conda/lib/python3.7/site-packages (from google-cloud-storage) (1.22.1)\n",
      "Requirement already satisfied, skipping upgrade: requests<3.0.0dev,>=2.18.0 in /opt/conda/lib/python3.7/site-packages (from google-cloud-storage) (2.24.0)\n",
      "Requirement already satisfied, skipping upgrade: google-crc32c<2.0dev,>=1.0; python_version >= \"3.5\" in /opt/conda/lib/python3.7/site-packages (from google-resumable-media<2.0dev,>=1.0.0->google-cloud-storage) (1.0.0)\n",
      "Requirement already satisfied, skipping upgrade: six in /opt/conda/lib/python3.7/site-packages (from google-resumable-media<2.0dev,>=1.0.0->google-cloud-storage) (1.15.0)\n",
      "Requirement already satisfied, skipping upgrade: google-api-core<2.0.0dev,>=1.19.0 in /opt/conda/lib/python3.7/site-packages (from google-cloud-core<2.0dev,>=1.4.1->google-cloud-storage) (1.22.4)\n",
      "Requirement already satisfied, skipping upgrade: rsa<5,>=3.1.4; python_version >= \"3.5\" in /opt/conda/lib/python3.7/site-packages (from google-auth<2.0dev,>=1.11.0->google-cloud-storage) (4.6)\n",
      "Requirement already satisfied, skipping upgrade: setuptools>=40.3.0 in /opt/conda/lib/python3.7/site-packages (from google-auth<2.0dev,>=1.11.0->google-cloud-storage) (50.3.0)\n",
      "Requirement already satisfied, skipping upgrade: pyasn1-modules>=0.2.1 in /opt/conda/lib/python3.7/site-packages (from google-auth<2.0dev,>=1.11.0->google-cloud-storage) (0.2.8)\n",
      "Requirement already satisfied, skipping upgrade: cachetools<5.0,>=2.0.0 in /opt/conda/lib/python3.7/site-packages (from google-auth<2.0dev,>=1.11.0->google-cloud-storage) (4.1.1)\n",
      "Requirement already satisfied, skipping upgrade: certifi>=2017.4.17 in /opt/conda/lib/python3.7/site-packages (from requests<3.0.0dev,>=2.18.0->google-cloud-storage) (2020.6.20)\n",
      "Requirement already satisfied, skipping upgrade: idna<3,>=2.5 in /opt/conda/lib/python3.7/site-packages (from requests<3.0.0dev,>=2.18.0->google-cloud-storage) (2.10)\n",
      "Requirement already satisfied, skipping upgrade: chardet<4,>=3.0.2 in /opt/conda/lib/python3.7/site-packages (from requests<3.0.0dev,>=2.18.0->google-cloud-storage) (3.0.4)\n",
      "Requirement already satisfied, skipping upgrade: urllib3!=1.25.0,!=1.25.1,<1.26,>=1.21.1 in /opt/conda/lib/python3.7/site-packages (from requests<3.0.0dev,>=2.18.0->google-cloud-storage) (1.25.10)\n",
      "Requirement already satisfied, skipping upgrade: cffi>=1.0.0 in /opt/conda/lib/python3.7/site-packages (from google-crc32c<2.0dev,>=1.0; python_version >= \"3.5\"->google-resumable-media<2.0dev,>=1.0.0->google-cloud-storage) (1.14.3)\n",
      "Requirement already satisfied, skipping upgrade: googleapis-common-protos<2.0dev,>=1.6.0 in /opt/conda/lib/python3.7/site-packages (from google-api-core<2.0.0dev,>=1.19.0->google-cloud-core<2.0dev,>=1.4.1->google-cloud-storage) (1.52.0)\n",
      "Requirement already satisfied, skipping upgrade: protobuf>=3.12.0 in /opt/conda/lib/python3.7/site-packages (from google-api-core<2.0.0dev,>=1.19.0->google-cloud-core<2.0dev,>=1.4.1->google-cloud-storage) (3.13.0)\n",
      "Requirement already satisfied, skipping upgrade: pytz in /opt/conda/lib/python3.7/site-packages (from google-api-core<2.0.0dev,>=1.19.0->google-cloud-core<2.0dev,>=1.4.1->google-cloud-storage) (2020.1)\n",
      "Requirement already satisfied, skipping upgrade: pyasn1>=0.1.3 in /opt/conda/lib/python3.7/site-packages (from rsa<5,>=3.1.4; python_version >= \"3.5\"->google-auth<2.0dev,>=1.11.0->google-cloud-storage) (0.4.8)\n",
      "Requirement already satisfied, skipping upgrade: pycparser in /opt/conda/lib/python3.7/site-packages (from cffi>=1.0.0->google-crc32c<2.0dev,>=1.0; python_version >= \"3.5\"->google-resumable-media<2.0dev,>=1.0.0->google-cloud-storage) (2.20)\n",
      "Note: you may need to restart the kernel to use updated packages.\n"
     ]
    }
   ],
   "source": [
    "#install upgraded google-cloud-storage\n",
    "#pip install --upgrade google-cloud-storage"
   ]
  },
  {
   "cell_type": "markdown",
   "metadata": {},
   "source": [
    "# Access Google Cloud Storage (GCS) data"
   ]
  },
  {
   "cell_type": "code",
   "execution_count": 1,
   "metadata": {},
   "outputs": [],
   "source": [
    "#Access data files for H23 and parental test samples (first batch)\n",
    "\n",
    "from google.cloud import storage\n",
    "#google apis documentation: https://googleapis.dev/python/storage/latest/index.html\n",
    "bucket_name = 'sbi-sheffels-e'\n",
    "prefix = 'data/pE2.N54.fastq.00/'\n",
    "\n",
    "storage_client = storage.Client() \n",
    "bucket = storage_client.get_bucket(bucket_name)\n",
    "#Get list of files in data/pE2.N54.fastq.00 folder of bucket\n",
    "files = list(storage_client.list_blobs(bucket, prefix=prefix)) #blob = GCS name for file/object\n",
    "#for file in files:\n",
    " #   print(file) #print \"blob\" names\n",
    "\n"
   ]
  },
  {
   "cell_type": "markdown",
   "metadata": {},
   "source": [
    "# Get total size of data files\n",
    "\n",
    "Needed for long term storage solutions"
   ]
  },
  {
   "cell_type": "code",
   "execution_count": 3,
   "metadata": {},
   "outputs": [],
   "source": [
    "def get_file_size(bucket_name, blob):\n",
    "    \"\"\"Gets Google Cloud storage file size from list_blobs. Adapted from Google Cloud tutorial.\n",
    "    https://cloud.google.com/storage/docs/viewing-editing-metadata#code-samples\"\"\"\n",
    "    # bucket_name = 'your-bucket-name'\n",
    "    # blob_name = 'your-object-name'\n",
    "\n",
    "    storage_client = storage.Client()\n",
    "    bucket = storage_client.bucket(bucket_name)\n",
    "    #blob = bucket.get_blob(blob_name) #for using with a string file name, not necessary if already have list of blobs\n",
    "    file_size = blob.size #size in bytes\n",
    "    return file_size"
   ]
  },
  {
   "cell_type": "markdown",
   "metadata": {},
   "source": [
    "Google API python storage: https://googleapis.dev/python/storage/latest/blobs.html\n",
    "attribute names/functions available for storage objects, etc"
   ]
  },
  {
   "cell_type": "code",
   "execution_count": 4,
   "metadata": {},
   "outputs": [
    {
     "name": "stdout",
     "output_type": "stream",
     "text": [
      "Final size: 341.145714441 GB.\n"
     ]
    }
   ],
   "source": [
    "#Get total size of data in GB\n",
    "total_size = 0\n",
    "for file in files:\n",
    "    file_size = get_file_size(bucket_name, file)\n",
    "    total_size += file_size\n",
    "    #print(\"File size: \" , file_size, \"Total size: \", total_size)\n",
    "print(\"Final size:\", total_size/(10**9), \"GB.\")"
   ]
  },
  {
   "cell_type": "markdown",
   "metadata": {},
   "source": [
    "# Examine individual file"
   ]
  },
  {
   "cell_type": "code",
   "execution_count": 2,
   "metadata": {},
   "outputs": [],
   "source": [
    "#Direct to file in bucket\n",
    "filepath = 'data/pE2.N54.fastq.00/E2-78710_S1_L004_R1_001.fastq.gz'\n",
    "filename = 'E2-78710_S1_L004_R1_001.fastq.gz'\n",
    "blob = storage.blob.Blob(filepath,bucket)\n",
    "#download blob to AI Platform Notebook instance\n",
    "with open(filename, \"wb\") as file_obj:\n",
    "    blob.download_to_file(file_obj)\n"
   ]
  },
  {
   "cell_type": "code",
   "execution_count": 16,
   "metadata": {},
   "outputs": [],
   "source": [
    "#Decompress fastq.gz to examine\n",
    "#read compressed file and write to txt file in chunks to avoid \"clogging\" memory\n",
    "import gzip\n",
    "import shutil\n",
    "with gzip.open(filename, 'rb') as f_in:\n",
    "    with open('file.txt', 'wb') as f_out:\n",
    "        shutil.copyfileobj(f_in, f_out)"
   ]
  },
  {
   "cell_type": "code",
   "execution_count": 18,
   "metadata": {},
   "outputs": [
    {
     "name": "stdout",
     "output_type": "stream",
     "text": [
      "@A00735:209:HFYKWDSXY:4:1101:2040:1016 1:N:0:AGTTCAGG+CCAACAGA\n",
      "\n"
     ]
    }
   ],
   "source": [
    "#print first line of fastq\n",
    "with open('file.txt', 'r') as f:\n",
    "    print(f.readline())"
   ]
  },
  {
   "cell_type": "code",
   "execution_count": 24,
   "metadata": {},
   "outputs": [
    {
     "name": "stdout",
     "output_type": "stream",
     "text": [
      "@A00735:209:HFYKWDSXY:4:1101:2040:1016 1:N:0:AGTTCAGG+CCAACAGA\n",
      "CNTTATTCCTTTGGCCCAGACAGCTTTGTTGAGCCTGGTGTCAATGCGCACATCTGGAGTTCCCATCTCCTTCATGGCAAATTTCCGAATCTCTTTGAGTG\n",
      "+\n",
      "F#FFFFFFFFFFFFFFFFFFFFFFFFFFFFFFFFFFFFFFFFFFFFFFFFFFFFFFFFFFFFFFFFFFFFFFFFFFFFFFFFFFFFFFFFFFFFFFFFFFF\n",
      "@A00735:209:HFYKWDSXY:4:1101:4878:1016 1:N:0:AGTTCAGG+CCAACAGA\n",
      "CNCTCTCTTCCTCTTGTGCTCTTGCTGGGGCTGGTGGTCCAGGGGTCTTACTCCTTGGAGGCCATGTGGGCCATGAGGTCCACCACCCTGTTGCTGTAGCC\n",
      "+\n",
      "F#FFFFFFFFFFFFFFFFFFFFFFFFFFFFFFFFFFFFFFFFFFFFFFFFFFFFFFFFFFFFFFFFFFFFF:FFFFFFFFFFFFFFFFFFFFFFFFFFFFF\n",
      "@A00735:209:HFYKWDSXY:4:1101:5529:1016 1:N:0:AGTTCAGG+CCAACAGA\n",
      "TNTTTTTTTTAGGATTTTTAGTATTTTAATATAATACAGTTCCAATCAGTGTGTCTGGTTCATTTCAGTTCCTTCACTGCCAAACCGGGGGGCAGGGACTG\n",
      "+\n",
      "F#:FFFFFFFFFFFFFFFFFFFFFFFFFFFFFFFFFFFFFFFFFFFFFFFFFFFFF:FFFFFFFF:FFFFFFFFFFF:F,FFFFFFFFFFFFFFFFFFFFF\n",
      "@A00735:209:HFYKWDSXY:4:1101:10248:1016 1:N:0:AGTTCAGG+CCAACAGA\n",
      "ANTGAAGCCAGTTGATTAGGGTGCTTAGCTGTTAACTAAGTGTTTGTGGGTTTAAGTCCCATTGGTCTAGTGAGGGCTTAGCTTAATTAAAGTGGCTGATT\n",
      "+\n",
      "F#FFFFFFFFFFFFFFFFFFFFFFF\n"
     ]
    }
   ],
   "source": [
    "#print first 1000 characters of fastq\n",
    "#(using alternative file open/close code structure from above)\n",
    "f = open('file.txt', 'r')\n",
    "print(f.read(1000))\n",
    "f.close()"
   ]
  },
  {
   "cell_type": "code",
   "execution_count": null,
   "metadata": {},
   "outputs": [],
   "source": []
  }
 ],
 "metadata": {
  "environment": {
   "name": "r-cpu.3-6.mnightly-2021-01-20-debian-10-test",
   "type": "gcloud",
   "uri": "gcr.io/deeplearning-platform-release/r-cpu.3-6:mnightly-2021-01-20-debian-10-test"
  },
  "kernelspec": {
   "display_name": "Python 3",
   "language": "python",
   "name": "python3"
  },
  "language_info": {
   "codemirror_mode": {
    "name": "ipython",
    "version": 3
   },
   "file_extension": ".py",
   "mimetype": "text/x-python",
   "name": "python",
   "nbconvert_exporter": "python",
   "pygments_lexer": "ipython3",
   "version": "3.7.9"
  }
 },
 "nbformat": 4,
 "nbformat_minor": 4
}
