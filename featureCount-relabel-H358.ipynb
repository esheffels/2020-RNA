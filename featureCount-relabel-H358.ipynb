{
 "cells": [
  {
   "cell_type": "code",
   "execution_count": 52,
   "id": "unexpected-metabolism",
   "metadata": {},
   "outputs": [],
   "source": [
    "import pandas as pd"
   ]
  },
  {
   "cell_type": "code",
   "execution_count": 53,
   "id": "attractive-supplier",
   "metadata": {},
   "outputs": [],
   "source": [
    "keytable = pd.read_csv(\"H358_keytable.txt\", sep=\"\\t\")\n",
    "featureCount = pd.read_csv(\"runs_20210209-results_featureCounts_merged_gene_counts.txt\", sep=\"\\t\")"
   ]
  },
  {
   "cell_type": "code",
   "execution_count": 54,
   "id": "insured-vehicle",
   "metadata": {},
   "outputs": [
    {
     "data": {
      "text/plain": [
       "Index(['E2-88342_S80_L004_R1_001Aligned.sortedByCoord.out.bam',\n",
       "       'E2-88343_S81_L004_R1_001Aligned.sortedByCoord.out.bam',\n",
       "       'E2-88344_S82_L004_R1_001Aligned.sortedByCoord.out.bam',\n",
       "       'E2-88345_S83_L004_R1_001Aligned.sortedByCoord.out.bam',\n",
       "       'E2-88346_S84_L004_R1_001Aligned.sortedByCoord.out.bam',\n",
       "       'E2-88347_S85_L004_R1_001Aligned.sortedByCoord.out.bam',\n",
       "       'E2-88348_S86_L004_R1_001Aligned.sortedByCoord.out.bam',\n",
       "       'E2-88349_S87_L004_R1_001Aligned.sortedByCoord.out.bam',\n",
       "       'E2-88350_S88_L004_R1_001Aligned.sortedByCoord.out.bam',\n",
       "       'E2-88351_S89_L004_R1_001Aligned.sortedByCoord.out.bam',\n",
       "       'E2-88352_S90_L004_R1_001Aligned.sortedByCoord.out.bam',\n",
       "       'E2-88353_S91_L004_R1_001Aligned.sortedByCoord.out.bam',\n",
       "       'E2-88354_S92_L004_R1_001Aligned.sortedByCoord.out.bam',\n",
       "       'E2-88355_S93_L004_R1_001Aligned.sortedByCoord.out.bam',\n",
       "       'E2-88356_S94_L004_R1_001Aligned.sortedByCoord.out.bam',\n",
       "       'E2-88357_S95_L004_R1_001Aligned.sortedByCoord.out.bam',\n",
       "       'E2-88358_S96_L004_R1_001Aligned.sortedByCoord.out.bam',\n",
       "       'E2-88359_S97_L004_R1_001Aligned.sortedByCoord.out.bam',\n",
       "       'E2-88360_S98_L004_R1_001Aligned.sortedByCoord.out.bam',\n",
       "       'E2-88361_S99_L004_R1_001Aligned.sortedByCoord.out.bam',\n",
       "       'E2-88362_S100_L004_R1_001Aligned.sortedByCoord.out.bam',\n",
       "       'E2-88363_S101_L004_R1_001Aligned.sortedByCoord.out.bam',\n",
       "       'E2-88365_S102_L004_R1_001Aligned.sortedByCoord.out.bam',\n",
       "       'E2-88366_S103_L004_R1_001Aligned.sortedByCoord.out.bam',\n",
       "       'E2-88367_S104_L004_R1_001Aligned.sortedByCoord.out.bam',\n",
       "       'E2-88368_S105_L004_R1_001Aligned.sortedByCoord.out.bam',\n",
       "       'E2-88369_S106_L004_R1_001Aligned.sortedByCoord.out.bam',\n",
       "       'E2-88370_S107_L004_R1_001Aligned.sortedByCoord.out.bam',\n",
       "       'E2-88371_S108_L004_R1_001Aligned.sortedByCoord.out.bam',\n",
       "       'E2-88372_S109_L004_R1_001Aligned.sortedByCoord.out.bam',\n",
       "       'E2-88373_S110_L004_R1_001Aligned.sortedByCoord.out.bam',\n",
       "       'E2-88374_S111_L004_R1_001Aligned.sortedByCoord.out.bam',\n",
       "       'E2-88375_S112_L004_R1_001Aligned.sortedByCoord.out.bam',\n",
       "       'E2-88376_S113_L004_R1_001Aligned.sortedByCoord.out.bam',\n",
       "       'E2-88377_S114_L004_R1_001Aligned.sortedByCoord.out.bam',\n",
       "       'E2-88378_S115_L004_R1_001Aligned.sortedByCoord.out.bam',\n",
       "       'E2-88379_S116_L004_R1_001Aligned.sortedByCoord.out.bam',\n",
       "       'E2-88380_S117_L004_R1_001Aligned.sortedByCoord.out.bam',\n",
       "       'E2-88381_S118_L004_R1_001Aligned.sortedByCoord.out.bam',\n",
       "       'E2-88382_S119_L004_R1_001Aligned.sortedByCoord.out.bam',\n",
       "       'E2-88383_S120_L004_R1_001Aligned.sortedByCoord.out.bam',\n",
       "       'E2-88384_S121_L004_R1_001Aligned.sortedByCoord.out.bam',\n",
       "       'E2-88385_S122_L004_R1_001Aligned.sortedByCoord.out.bam',\n",
       "       'E2-88386_S123_L004_R1_001Aligned.sortedByCoord.out.bam',\n",
       "       'E2-88387_S124_L004_R1_001Aligned.sortedByCoord.out.bam',\n",
       "       'E2-88388_S125_L004_R1_001Aligned.sortedByCoord.out.bam',\n",
       "       'E2-88389_S126_L004_R1_001Aligned.sortedByCoord.out.bam',\n",
       "       'E2-88390_S127_L004_R1_001Aligned.sortedByCoord.out.bam',\n",
       "       'E2-88391_S128_L004_R1_001Aligned.sortedByCoord.out.bam',\n",
       "       'E2-88392_S129_L004_R1_001Aligned.sortedByCoord.out.bam',\n",
       "       'E2-88393_S130_L004_R1_001Aligned.sortedByCoord.out.bam',\n",
       "       'E2-88394_S131_L004_R1_001Aligned.sortedByCoord.out.bam',\n",
       "       'E2-88395_S132_L004_R1_001Aligned.sortedByCoord.out.bam',\n",
       "       'E2-88396_S133_L004_R1_001Aligned.sortedByCoord.out.bam',\n",
       "       'E2-88397_S134_L004_R1_001Aligned.sortedByCoord.out.bam',\n",
       "       'E2-88398_S135_L004_R1_001Aligned.sortedByCoord.out.bam',\n",
       "       'E2-88399_S136_L004_R1_001Aligned.sortedByCoord.out.bam',\n",
       "       'E2-88400_S137_L004_R1_001Aligned.sortedByCoord.out.bam',\n",
       "       'E2-88401_S138_L004_R1_001Aligned.sortedByCoord.out.bam'],\n",
       "      dtype='object')"
      ]
     },
     "execution_count": 54,
     "metadata": {},
     "output_type": "execute_result"
    }
   ],
   "source": [
    "featureCount = featureCount.reindex(sorted(featureCount.columns), axis=1)\n",
    "fc_columns = featureCount.columns\n",
    "sample_names = fc_columns[0:-2]\n",
    "sample_names"
   ]
  },
  {
   "cell_type": "code",
   "execution_count": 55,
   "id": "legitimate-constraint",
   "metadata": {},
   "outputs": [],
   "source": [
    "#sample_list=[]\n",
    "#for name in sample_names:\n",
    " #   sample_ID = name[0:8]\n",
    "  #  sample_list.append(sample_ID)"
   ]
  },
  {
   "cell_type": "code",
   "execution_count": 56,
   "id": "desirable-think",
   "metadata": {},
   "outputs": [],
   "source": [
    "file_dict = {name:name[0:8] for name in sample_names}"
   ]
  },
  {
   "cell_type": "code",
   "execution_count": 57,
   "id": "guided-berlin",
   "metadata": {},
   "outputs": [],
   "source": [
    "keytable[\"SampleID-Lab\"]=keytable[\"Description\"].str[-10:]\n",
    "keytable.rename(columns={\"Sample_ID\":\"SampleID\"}, inplace=True)"
   ]
  },
  {
   "cell_type": "code",
   "execution_count": 58,
   "id": "lyric-supplement",
   "metadata": {},
   "outputs": [
    {
     "name": "stdout",
     "output_type": "stream",
     "text": [
      "  SampleID-Lab\n",
      "0   ES58NTXX01\n"
     ]
    },
    {
     "data": {
      "text/html": [
       "<div>\n",
       "<style scoped>\n",
       "    .dataframe tbody tr th:only-of-type {\n",
       "        vertical-align: middle;\n",
       "    }\n",
       "\n",
       "    .dataframe tbody tr th {\n",
       "        vertical-align: top;\n",
       "    }\n",
       "\n",
       "    .dataframe thead th {\n",
       "        text-align: right;\n",
       "    }\n",
       "</style>\n",
       "<table border=\"1\" class=\"dataframe\">\n",
       "  <thead>\n",
       "    <tr style=\"text-align: right;\">\n",
       "      <th></th>\n",
       "      <th>SampleID-Lab</th>\n",
       "    </tr>\n",
       "  </thead>\n",
       "  <tbody>\n",
       "    <tr>\n",
       "      <th>0</th>\n",
       "      <td>ES58NTXX01</td>\n",
       "    </tr>\n",
       "  </tbody>\n",
       "</table>\n",
       "</div>"
      ],
      "text/plain": [
       "  SampleID-Lab\n",
       "0   ES58NTXX01"
      ]
     },
     "execution_count": 58,
     "metadata": {},
     "output_type": "execute_result"
    }
   ],
   "source": [
    "lab_ID = keytable.loc[lambda df: df['SampleID'] == sample_list[0], [\"SampleID-Lab\"]]\n",
    "print(lab_ID)\n",
    "ID = lab_ID.iloc[0:1]\n",
    "ID"
   ]
  },
  {
   "cell_type": "code",
   "execution_count": 59,
   "id": "acknowledged-seventh",
   "metadata": {},
   "outputs": [
    {
     "data": {
      "text/plain": [
       "'E2-88342'"
      ]
     },
     "execution_count": 59,
     "metadata": {},
     "output_type": "execute_result"
    }
   ],
   "source": [
    "keytable[\"SampleID\"][0]"
   ]
  },
  {
   "cell_type": "code",
   "execution_count": 60,
   "id": "freelance-advertiser",
   "metadata": {},
   "outputs": [],
   "source": [
    "ID_dict = {keytable[\"SampleID\"][row]:keytable[\"SampleID-Lab\"][row] for row in keytable.index}"
   ]
  },
  {
   "cell_type": "code",
   "execution_count": 61,
   "id": "resident-nitrogen",
   "metadata": {},
   "outputs": [],
   "source": [
    "featureCount.rename(columns=file_dict, inplace=True)\n",
    "featureCount.rename(columns=ID_dict, inplace=True)"
   ]
  },
  {
   "cell_type": "code",
   "execution_count": 62,
   "id": "traditional-slovakia",
   "metadata": {},
   "outputs": [],
   "source": [
    "#lab_sample_list=[]\n",
    "#for sample in sample_list:\n",
    "#    lab_ID = keytable.loc[keytable['SampleID'] == sample, \"SampleID-Lab\"].values[0]\n",
    "#    lab_sample_list.append(lab_ID)"
   ]
  },
  {
   "cell_type": "code",
   "execution_count": 63,
   "id": "widespread-sight",
   "metadata": {},
   "outputs": [],
   "source": [
    "#rearrange columns to put geneid and gene name at front\n",
    "columns = featureCount.columns.tolist()\n",
    "columns = columns[-2:] + columns[:-2]"
   ]
  },
  {
   "cell_type": "code",
   "execution_count": 64,
   "id": "collaborative-partnership",
   "metadata": {},
   "outputs": [],
   "source": [
    "featureCount=featureCount[columns]"
   ]
  },
  {
   "cell_type": "code",
   "execution_count": 24,
   "id": "palestinian-regression",
   "metadata": {},
   "outputs": [],
   "source": [
    "#write relabeled featureCounts to tsv file\n",
    "featureCount.to_csv(path_or_buf = \"20210209-featureCounts-labIDs.tsv\", sep=\"\\t\")"
   ]
  },
  {
   "cell_type": "code",
   "execution_count": 65,
   "id": "noble-forest",
   "metadata": {},
   "outputs": [],
   "source": [
    "exp_design = pd.DataFrame()\n",
    "exp_design[\"SampleID-Lab\"]=keytable[\"SampleID-Lab\"]"
   ]
  },
  {
   "cell_type": "code",
   "execution_count": 66,
   "id": "legislative-terrorism",
   "metadata": {},
   "outputs": [],
   "source": [
    "info = [\"Cell Line\", \"Inhibition Status\", \"CRISPR\", \"MRTX\", \"BI\", \"SHP2i\", \"Time Point\", \"Population\"]\n",
    "def extract_info(ID, info):\n",
    "    if info == \"Cell Line\":\n",
    "        return ID[2:4]\n",
    "    if info == \"CRISPR\":\n",
    "        return ID[4:6]\n",
    "    if len(ID) != 10:\n",
    "        if info == \"Inhibition Status\":\n",
    "            return ID[4:6] + \"XX\"\n",
    "        if info == \"MRTX\" or info == \"BI\" or info == \"SHP2i\":\n",
    "            return False\n",
    "        if info == \"Time Point\":\n",
    "            return 0\n",
    "        if info == \"Population\":\n",
    "            return \"A\"\n",
    "    else:\n",
    "        if info == \"Inhibition Status\":\n",
    "            return ID[4:8]\n",
    "        if info == \"MRTX\":\n",
    "            if \"M\" in ID[6:8]:\n",
    "                return True\n",
    "            else:\n",
    "                return False\n",
    "        if info == \"BI\":\n",
    "            if \"B\" in ID[6:8]:\n",
    "                return True\n",
    "            else:\n",
    "                return False\n",
    "        if info == \"SHP2i\":\n",
    "            if \"S\" in ID[6:8]:\n",
    "                return True\n",
    "            else:\n",
    "                return False\n",
    "        if info == \"Time Point\":\n",
    "            if int(ID[8:10]) <= 4 and ID[6:8]==\"XX\":\n",
    "                return 0\n",
    "            elif int(ID[8:10]) <= 4:\n",
    "                return 6\n",
    "            else: \n",
    "                return 72\n",
    "        if info == \"Population\":\n",
    "            if int(ID[8:10]) in [1,2,5,6]:\n",
    "                return \"A\"\n",
    "            else:\n",
    "                return \"B\"\n"
   ]
  },
  {
   "cell_type": "code",
   "execution_count": 67,
   "id": "liked-antigua",
   "metadata": {},
   "outputs": [],
   "source": [
    "for x in info:\n",
    "    exp_design[x]=exp_design[\"SampleID-Lab\"].apply(lambda row: extract_info(row, x))"
   ]
  },
  {
   "cell_type": "code",
   "execution_count": 29,
   "id": "monetary-terry",
   "metadata": {},
   "outputs": [],
   "source": [
    "#write experimental design to tsv file\n",
    "exp_design.to_csv(path_or_buf = \"20201009-H358-experiment-design.tsv\", sep=\"\\t\")"
   ]
  },
  {
   "cell_type": "code",
   "execution_count": 30,
   "id": "tight-carolina",
   "metadata": {},
   "outputs": [],
   "source": [
    "#isolate H23s\n",
    "#exp_design_H23 = exp_design[exp_design[\"SampleID-Lab\"].str.contains(\"ES35\")==False]"
   ]
  },
  {
   "cell_type": "code",
   "execution_count": 31,
   "id": "ongoing-strap",
   "metadata": {},
   "outputs": [],
   "source": [
    "#exp_design_H23.to_csv(path_or_buf = \"20201027-H23-experiment-design.tsv\", sep=\"\\t\")"
   ]
  },
  {
   "cell_type": "code",
   "execution_count": 39,
   "id": "positive-charles",
   "metadata": {},
   "outputs": [],
   "source": [
    "#get list of RTKs from text file from grant Fig 2\n",
    "with open(\"RTKs.txt\") as f:\n",
    "    RTKs = f.read().splitlines()\n",
    "while(\"\" in RTKs) : \n",
    "    RTKs.remove(\"\") "
   ]
  },
  {
   "cell_type": "code",
   "execution_count": 40,
   "id": "sporting-premium",
   "metadata": {},
   "outputs": [],
   "source": [
    "#get list of RTK ligands from text file from grant Fig 2\n",
    "with open(\"RTK-ligands.txt\") as f:\n",
    "    RTK_ligands = f.read().splitlines()\n",
    "while(\"\" in RTK_ligands) : \n",
    "    RTK_ligands.remove(\"\") "
   ]
  },
  {
   "cell_type": "code",
   "execution_count": 41,
   "id": "charming-muslim",
   "metadata": {},
   "outputs": [],
   "source": [
    "#all_genes = RTKs + RTK_ligands"
   ]
  },
  {
   "cell_type": "code",
   "execution_count": 42,
   "id": "female-response",
   "metadata": {},
   "outputs": [
    {
     "name": "stdout",
     "output_type": "stream",
     "text": [
      "These RTKs/RTK ligands are not listed in featureCount:\n",
      "PDDGRB\n",
      "RYIK\n"
     ]
    }
   ],
   "source": [
    "good_genes = []\n",
    "#check that genes are named in featureCount\n",
    "print(\"These RTKs/RTK ligands are not listed in featureCount:\")\n",
    "for gene in RTKs:\n",
    "    if gene in featureCount[\"gene_name\"].tolist():\n",
    "        good_genes.append(gene)\n",
    "    else:\n",
    "        print(gene)"
   ]
  },
  {
   "cell_type": "code",
   "execution_count": 43,
   "id": "convinced-barrel",
   "metadata": {},
   "outputs": [],
   "source": [
    "#make featureCount dataframe with existing RTK/RTK ligand genes\n",
    "featureCount_RTK = featureCount[featureCount[\"gene_name\"].isin(good_genes)]"
   ]
  },
  {
   "cell_type": "code",
   "execution_count": 44,
   "id": "adaptive-mitchell",
   "metadata": {},
   "outputs": [],
   "source": [
    "#isolate H23s in featureCount_RTK\n",
    "#featureCount_RTK_H23 = featureCount_RTK.loc[:,featureCount_RTK.columns.str.contains(\"ES35\")==False]"
   ]
  },
  {
   "cell_type": "code",
   "execution_count": 50,
   "id": "split-breach",
   "metadata": {},
   "outputs": [],
   "source": [
    "#write featureCount_RTK_H23 to tsv\n",
    "featureCount_RTK.to_csv(path_or_buf = \"20210209-featureCounts-H358-RTK.tsv\", sep=\"\\t\")"
   ]
  },
  {
   "cell_type": "code",
   "execution_count": null,
   "id": "therapeutic-limit",
   "metadata": {},
   "outputs": [],
   "source": []
  },
  {
   "cell_type": "code",
   "execution_count": 46,
   "id": "processed-animal",
   "metadata": {},
   "outputs": [
    {
     "name": "stdout",
     "output_type": "stream",
     "text": [
      "These RTKs/RTK ligands are not listed in featureCount:\n",
      "SCF\n",
      "CLC11A\n"
     ]
    }
   ],
   "source": [
    "good_genes = []\n",
    "#check that genes are named in featureCount\n",
    "print(\"These RTKs/RTK ligands are not listed in featureCount:\")\n",
    "for gene in RTK_ligands:\n",
    "    if gene in featureCount[\"gene_name\"].tolist():\n",
    "        good_genes.append(gene)\n",
    "    else:\n",
    "        print(gene)"
   ]
  },
  {
   "cell_type": "code",
   "execution_count": 47,
   "id": "parallel-engagement",
   "metadata": {},
   "outputs": [],
   "source": [
    "#make featureCount dataframe with existing RTK/RTK ligand genes\n",
    "featureCount_RTK_lig = featureCount[featureCount[\"gene_name\"].isin(good_genes)]"
   ]
  },
  {
   "cell_type": "code",
   "execution_count": 48,
   "id": "significant-cache",
   "metadata": {},
   "outputs": [],
   "source": [
    "#isolate H23s in featureCount_RTK\n",
    "#featureCount_RTK_H23 = featureCount_RTK.loc[:,featureCount_RTK.columns.str.contains(\"ES35\")==False]"
   ]
  },
  {
   "cell_type": "code",
   "execution_count": 51,
   "id": "considerable-paint",
   "metadata": {},
   "outputs": [],
   "source": [
    "#write featureCount_RTK_H23 to tsv\n",
    "featureCount_RTK_lig.to_csv(path_or_buf = \"20210209-featureCounts-H358-RTK_lig.tsv\", sep=\"\\t\")"
   ]
  },
  {
   "cell_type": "code",
   "execution_count": 38,
   "id": "funny-definition",
   "metadata": {},
   "outputs": [],
   "source": [
    "#featureCount_RTK_H23.loc[featureCount_RTK_H23[\"Geneid\"] == \"ENSG00000124882\"]"
   ]
  },
  {
   "cell_type": "code",
   "execution_count": 35,
   "id": "authentic-dressing",
   "metadata": {},
   "outputs": [],
   "source": [
    "#ERK Signature gene list\n",
    "with open(\"ERK_KEGG_geneset.txt\") as f:\n",
    "    ERK_KEGG = f.read().splitlines()\n"
   ]
  },
  {
   "cell_type": "code",
   "execution_count": 36,
   "id": "integral-citizenship",
   "metadata": {},
   "outputs": [
    {
     "name": "stdout",
     "output_type": "stream",
     "text": [
      "These RTKs/RTK ligands are not listed in featureCount:\n",
      "MAP3K20\n"
     ]
    }
   ],
   "source": [
    "ERK_genes = []\n",
    "#check that genes are named in featureCount\n",
    "print(\"These genes are not listed in featureCount:\")\n",
    "for gene in ERK_KEGG:\n",
    "    if gene in featureCount[\"gene_name\"].tolist():\n",
    "        ERK_genes.append(gene)\n",
    "    else:\n",
    "        print(gene)"
   ]
  },
  {
   "cell_type": "code",
   "execution_count": 37,
   "id": "brave-language",
   "metadata": {},
   "outputs": [],
   "source": [
    "#make featureCount dataframe with existing ERK genes\n",
    "featureCount_ERK = featureCount[featureCount[\"gene_name\"].isin(good_genes)]\n",
    "#write featureCount_RTK_H23 to tsv\n",
    "featureCount_ERK.to_csv(path_or_buf = \"20210209-featureCounts-H358-ERK.tsv\", sep=\"\\t\")"
   ]
  },
  {
   "cell_type": "code",
   "execution_count": null,
   "id": "thorough-boards",
   "metadata": {},
   "outputs": [],
   "source": []
  },
  {
   "cell_type": "code",
   "execution_count": 68,
   "id": "offshore-attraction",
   "metadata": {},
   "outputs": [],
   "source": [
    "#Ephrin gene list\n",
    "with open(\"Ephrin genes txt.txt\") as f:\n",
    "    Ephrins = f.read().splitlines()\n"
   ]
  },
  {
   "cell_type": "code",
   "execution_count": 69,
   "id": "acoustic-sarah",
   "metadata": {},
   "outputs": [
    {
     "name": "stdout",
     "output_type": "stream",
     "text": [
      "These genes are not listed in featureCount:\n"
     ]
    }
   ],
   "source": [
    "good_genes = []\n",
    "#check that genes are named in featureCount\n",
    "print(\"These genes are not listed in featureCount:\")\n",
    "for gene in Ephrins:\n",
    "    if gene in featureCount[\"gene_name\"].tolist():\n",
    "        good_genes.append(gene)\n",
    "    else:\n",
    "        print(gene)"
   ]
  },
  {
   "cell_type": "code",
   "execution_count": 70,
   "id": "indian-croatia",
   "metadata": {},
   "outputs": [],
   "source": [
    "#make featureCount dataframe with existing ERK genes\n",
    "featureCount_ephrin = featureCount[featureCount[\"gene_name\"].isin(good_genes)]\n",
    "#write featureCount_RTK_H23 to tsv\n",
    "featureCount_ephrin.to_csv(path_or_buf = \"20210209-featureCounts-H358-ephrin.tsv\", sep=\"\\t\")"
   ]
  },
  {
   "cell_type": "code",
   "execution_count": null,
   "id": "voluntary-operations",
   "metadata": {},
   "outputs": [],
   "source": []
  }
 ],
 "metadata": {
  "environment": {
   "name": "r-cpu.3-6.mnightly-2021-01-20-debian-10-test",
   "type": "gcloud",
   "uri": "gcr.io/deeplearning-platform-release/r-cpu.3-6:mnightly-2021-01-20-debian-10-test"
  },
  "kernelspec": {
   "display_name": "Python 3",
   "language": "python",
   "name": "python3"
  },
  "language_info": {
   "codemirror_mode": {
    "name": "ipython",
    "version": 3
   },
   "file_extension": ".py",
   "mimetype": "text/x-python",
   "name": "python",
   "nbconvert_exporter": "python",
   "pygments_lexer": "ipython3",
   "version": "3.7.9"
  }
 },
 "nbformat": 4,
 "nbformat_minor": 5
}
