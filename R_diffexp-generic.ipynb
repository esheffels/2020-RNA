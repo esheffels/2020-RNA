{
 "cells": [
  {
   "cell_type": "markdown",
   "id": "centered-exhibit",
   "metadata": {},
   "source": [
    "# Differential Expression and Pathway analysis\n",
    "The goal of this notebook is to take the processed feature counts and experimental design tables and use GSEA, ROntoTools, and QuaternaryProd to generate and compare pathway analyses. This notebook runs code in R using the DESeq2 differential expression package.\n",
    "\n",
    "1. input full featureCount tables into DESeq2\n",
    "2. ROntoTools\n",
    "3. GSEA\n",
    "4. QuaternaryProd with STRING database"
   ]
  },
  {
   "cell_type": "markdown",
   "id": "worst-intervention",
   "metadata": {},
   "source": [
    "## Preparation\n",
    "1. install R packages (see R install document)\n"
   ]
  },
  {
   "cell_type": "markdown",
   "id": "sudden-sharp",
   "metadata": {},
   "source": [
    "## Instructions\n",
    "Before running this notebook, format the feature count data with the featureCountprocessing-generic notebook. The notebooks are separated because the processing notebook runs Python code, not R. Once the processed featureCounts and experimental design table have been created:\n",
    "\n",
    "1. Run the first cell to import the necessary libraries and define the functions used to process the data.\n",
    "2. "
   ]
  },
  {
   "cell_type": "code",
   "execution_count": 44,
   "id": "introductory-individual",
   "metadata": {},
   "outputs": [],
   "source": [
    "#import libraries\n",
    "library(\"DESeq2\")\n",
    "\n",
    "#define functions for DESeq2 object creation and heatmap creation\n",
    "\n",
    "#input and process sample data (experiment design)\n",
    "input_sample_data <- function(filepath, print_debug=FALSE){\n",
    "    sampleData <- read.delim(filepath)\n",
    "    sampleData_v2 <- sampleData\n",
    "    \n",
    "    rownames(sampleData) <- sampleData$SampleID.Lab\n",
    "    sampleData$Cell.Line <- factor(sampleData$Cell.Line)\n",
    "    sampleData$Time.Point <- factor(sampleData$Time.Point)\n",
    "    if(print_debug == TRUE){\n",
    "        print(head(sampleData))\n",
    "        }\n",
    "    return(sampleData)\n",
    "}\n",
    "\n",
    "#Input and process raw gene counts (Feature Counts)\n",
    "input_raw_counts <- function(filepath, sampleData, print_debug=FALSE){\n",
    "    rawCounts <- read.delim(filepath)\n",
    "    #print(head(rawCounts))\n",
    "    \n",
    "    geneID <- rawCounts$gene_name\n",
    "    sampleIndex <- grepl(\"ES\\\\d+\", colnames(rawCounts))\n",
    "    rawCounts <- as.matrix(rawCounts[,sampleIndex])\n",
    "    rownames(rawCounts) <- geneID\n",
    "    if(print_debug == TRUE){\n",
    "        print(head(rawCounts))\n",
    "    }\n",
    "    \n",
    "    rawCounts <- rawCounts[,unique(rownames(sampleData))]\n",
    "    cat(\"Test that dimensions of rawCounts and sampleData match:\", all(colnames(rawCounts) == rownames(sampleData)), \"\\n\")\n",
    "    return(rawCounts)\n",
    "}\n"
   ]
  },
  {
   "cell_type": "code",
   "execution_count": null,
   "id": "affiliated-flood",
   "metadata": {},
   "outputs": [],
   "source": []
  }
 ],
 "metadata": {
  "environment": {
   "name": "r-cpu.3-6.mnightly-2021-01-20-debian-10-test",
   "type": "gcloud",
   "uri": "gcr.io/deeplearning-platform-release/r-cpu.3-6:mnightly-2021-01-20-debian-10-test"
  },
  "kernelspec": {
   "display_name": "R",
   "language": "R",
   "name": "ir"
  },
  "language_info": {
   "codemirror_mode": "r",
   "file_extension": ".r",
   "mimetype": "text/x-r-source",
   "name": "R",
   "pygments_lexer": "r",
   "version": "3.6.3"
  }
 },
 "nbformat": 4,
 "nbformat_minor": 5
}
