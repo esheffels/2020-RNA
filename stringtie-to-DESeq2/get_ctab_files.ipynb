{
 "cells": [
  {
   "cell_type": "markdown",
   "id": "demographic-interest",
   "metadata": {},
   "source": [
    "# Goal: get t_data.ctab files from each sample downloaded from GCS"
   ]
  },
  {
   "cell_type": "markdown",
   "id": "satisfactory-cliff",
   "metadata": {},
   "source": [
    "Files for each sample are stored in the bucket under:\n",
    "\"runs/20210113-results/stringtieFPKM/ballgown/E2-78710_S1_L004_R1_001Aligned.sortedByCoord.out_ballgown/t_data.ctab\"\n"
   ]
  },
  {
   "cell_type": "code",
   "execution_count": 9,
   "id": "joint-superintendent",
   "metadata": {},
   "outputs": [],
   "source": [
    "#Define sample directories and file names\n",
    "H23 = {\"runs\":\"20210113\", \"samples\":48, \"first_sample_number\":78710, \"S_number\":1}\n",
    "H358 = {\"runs\":\"20210209\", \"samples\":59, \"first_sample_number\":88342, \"S_number\":80}\n",
    "def get_ctab_file_format(run, sample_number, S_number):\n",
    "    sample_number_string = str(sample_number)\n",
    "    S_number_string = str(S_number)\n",
    "    ctab_file_format = \"runs/\"+run+\"-results/stringtieFPKM/ballgown/E2-\"+sample_number_string+\"_S\"+S_number_string+\"_L004_R1_001Aligned.sortedByCoord.out_ballgown/t_data.ctab\"\n",
    "    return ctab_file_format\n"
   ]
  },
  {
   "cell_type": "code",
   "execution_count": 10,
   "id": "facial-spencer",
   "metadata": {},
   "outputs": [
    {
     "name": "stdout",
     "output_type": "stream",
     "text": [
      "runs/20210113-results/stringtieFPKM/ballgown/E2-78710_S1_L004_R1_001Aligned.sortedByCoord.out_ballgown/t_data.ctab\n",
      "runs/20210113-results/stringtieFPKM/ballgown/E2-78711_S2_L004_R1_001Aligned.sortedByCoord.out_ballgown/t_data.ctab\n",
      "runs/20210113-results/stringtieFPKM/ballgown/E2-78712_S3_L004_R1_001Aligned.sortedByCoord.out_ballgown/t_data.ctab\n",
      "runs/20210113-results/stringtieFPKM/ballgown/E2-78713_S4_L004_R1_001Aligned.sortedByCoord.out_ballgown/t_data.ctab\n",
      "runs/20210113-results/stringtieFPKM/ballgown/E2-78714_S5_L004_R1_001Aligned.sortedByCoord.out_ballgown/t_data.ctab\n",
      "runs/20210113-results/stringtieFPKM/ballgown/E2-78715_S6_L004_R1_001Aligned.sortedByCoord.out_ballgown/t_data.ctab\n",
      "runs/20210113-results/stringtieFPKM/ballgown/E2-78716_S7_L004_R1_001Aligned.sortedByCoord.out_ballgown/t_data.ctab\n",
      "runs/20210113-results/stringtieFPKM/ballgown/E2-78717_S8_L004_R1_001Aligned.sortedByCoord.out_ballgown/t_data.ctab\n",
      "runs/20210113-results/stringtieFPKM/ballgown/E2-78718_S9_L004_R1_001Aligned.sortedByCoord.out_ballgown/t_data.ctab\n",
      "runs/20210113-results/stringtieFPKM/ballgown/E2-78719_S10_L004_R1_001Aligned.sortedByCoord.out_ballgown/t_data.ctab\n",
      "runs/20210113-results/stringtieFPKM/ballgown/E2-78720_S11_L004_R1_001Aligned.sortedByCoord.out_ballgown/t_data.ctab\n",
      "runs/20210113-results/stringtieFPKM/ballgown/E2-78721_S12_L004_R1_001Aligned.sortedByCoord.out_ballgown/t_data.ctab\n",
      "runs/20210113-results/stringtieFPKM/ballgown/E2-78722_S13_L004_R1_001Aligned.sortedByCoord.out_ballgown/t_data.ctab\n",
      "runs/20210113-results/stringtieFPKM/ballgown/E2-78723_S14_L004_R1_001Aligned.sortedByCoord.out_ballgown/t_data.ctab\n",
      "runs/20210113-results/stringtieFPKM/ballgown/E2-78724_S15_L004_R1_001Aligned.sortedByCoord.out_ballgown/t_data.ctab\n",
      "runs/20210113-results/stringtieFPKM/ballgown/E2-78725_S16_L004_R1_001Aligned.sortedByCoord.out_ballgown/t_data.ctab\n",
      "runs/20210113-results/stringtieFPKM/ballgown/E2-78726_S17_L004_R1_001Aligned.sortedByCoord.out_ballgown/t_data.ctab\n",
      "runs/20210113-results/stringtieFPKM/ballgown/E2-78727_S18_L004_R1_001Aligned.sortedByCoord.out_ballgown/t_data.ctab\n",
      "runs/20210113-results/stringtieFPKM/ballgown/E2-78728_S19_L004_R1_001Aligned.sortedByCoord.out_ballgown/t_data.ctab\n",
      "runs/20210113-results/stringtieFPKM/ballgown/E2-78729_S20_L004_R1_001Aligned.sortedByCoord.out_ballgown/t_data.ctab\n",
      "runs/20210113-results/stringtieFPKM/ballgown/E2-78730_S21_L004_R1_001Aligned.sortedByCoord.out_ballgown/t_data.ctab\n",
      "runs/20210113-results/stringtieFPKM/ballgown/E2-78731_S22_L004_R1_001Aligned.sortedByCoord.out_ballgown/t_data.ctab\n",
      "runs/20210113-results/stringtieFPKM/ballgown/E2-78732_S23_L004_R1_001Aligned.sortedByCoord.out_ballgown/t_data.ctab\n",
      "runs/20210113-results/stringtieFPKM/ballgown/E2-78733_S24_L004_R1_001Aligned.sortedByCoord.out_ballgown/t_data.ctab\n",
      "runs/20210113-results/stringtieFPKM/ballgown/E2-78734_S25_L004_R1_001Aligned.sortedByCoord.out_ballgown/t_data.ctab\n",
      "runs/20210113-results/stringtieFPKM/ballgown/E2-78735_S26_L004_R1_001Aligned.sortedByCoord.out_ballgown/t_data.ctab\n",
      "runs/20210113-results/stringtieFPKM/ballgown/E2-78736_S27_L004_R1_001Aligned.sortedByCoord.out_ballgown/t_data.ctab\n",
      "runs/20210113-results/stringtieFPKM/ballgown/E2-78737_S28_L004_R1_001Aligned.sortedByCoord.out_ballgown/t_data.ctab\n",
      "runs/20210113-results/stringtieFPKM/ballgown/E2-78738_S29_L004_R1_001Aligned.sortedByCoord.out_ballgown/t_data.ctab\n",
      "runs/20210113-results/stringtieFPKM/ballgown/E2-78739_S30_L004_R1_001Aligned.sortedByCoord.out_ballgown/t_data.ctab\n",
      "runs/20210113-results/stringtieFPKM/ballgown/E2-78740_S31_L004_R1_001Aligned.sortedByCoord.out_ballgown/t_data.ctab\n",
      "runs/20210113-results/stringtieFPKM/ballgown/E2-78741_S32_L004_R1_001Aligned.sortedByCoord.out_ballgown/t_data.ctab\n",
      "runs/20210113-results/stringtieFPKM/ballgown/E2-78742_S33_L004_R1_001Aligned.sortedByCoord.out_ballgown/t_data.ctab\n",
      "runs/20210113-results/stringtieFPKM/ballgown/E2-78743_S34_L004_R1_001Aligned.sortedByCoord.out_ballgown/t_data.ctab\n",
      "runs/20210113-results/stringtieFPKM/ballgown/E2-78744_S35_L004_R1_001Aligned.sortedByCoord.out_ballgown/t_data.ctab\n",
      "runs/20210113-results/stringtieFPKM/ballgown/E2-78745_S36_L004_R1_001Aligned.sortedByCoord.out_ballgown/t_data.ctab\n",
      "runs/20210113-results/stringtieFPKM/ballgown/E2-78746_S37_L004_R1_001Aligned.sortedByCoord.out_ballgown/t_data.ctab\n",
      "runs/20210113-results/stringtieFPKM/ballgown/E2-78747_S38_L004_R1_001Aligned.sortedByCoord.out_ballgown/t_data.ctab\n",
      "runs/20210113-results/stringtieFPKM/ballgown/E2-78748_S39_L004_R1_001Aligned.sortedByCoord.out_ballgown/t_data.ctab\n",
      "runs/20210113-results/stringtieFPKM/ballgown/E2-78749_S40_L004_R1_001Aligned.sortedByCoord.out_ballgown/t_data.ctab\n",
      "runs/20210113-results/stringtieFPKM/ballgown/E2-78750_S41_L004_R1_001Aligned.sortedByCoord.out_ballgown/t_data.ctab\n",
      "runs/20210113-results/stringtieFPKM/ballgown/E2-78751_S42_L004_R1_001Aligned.sortedByCoord.out_ballgown/t_data.ctab\n",
      "runs/20210113-results/stringtieFPKM/ballgown/E2-78752_S43_L004_R1_001Aligned.sortedByCoord.out_ballgown/t_data.ctab\n",
      "runs/20210113-results/stringtieFPKM/ballgown/E2-78753_S44_L004_R1_001Aligned.sortedByCoord.out_ballgown/t_data.ctab\n",
      "runs/20210113-results/stringtieFPKM/ballgown/E2-78754_S45_L004_R1_001Aligned.sortedByCoord.out_ballgown/t_data.ctab\n",
      "runs/20210113-results/stringtieFPKM/ballgown/E2-78755_S46_L004_R1_001Aligned.sortedByCoord.out_ballgown/t_data.ctab\n",
      "runs/20210113-results/stringtieFPKM/ballgown/E2-78756_S47_L004_R1_001Aligned.sortedByCoord.out_ballgown/t_data.ctab\n",
      "runs/20210113-results/stringtieFPKM/ballgown/E2-78757_S48_L004_R1_001Aligned.sortedByCoord.out_ballgown/t_data.ctab\n"
     ]
    }
   ],
   "source": [
    "#initialize loop\n",
    "i = 1\n",
    "sample_number = H23[\"first_sample_number\"]\n",
    "S_number = H23[\"S_number\"]\n",
    "run = H23[\"runs\"]\n",
    "\n",
    "#make file addresses for H23 samples\n",
    "#add check for last sample \n",
    "while i <= H23[\"samples\"]:\n",
    "    ctab_file_format = get_ctab_file_format(run, sample_number, S_number)\n",
    "    print(ctab_file_format)\n",
    "    i += 1\n",
    "    sample_number += 1\n",
    "    S_number += 1"
   ]
  },
  {
   "cell_type": "code",
   "execution_count": null,
   "id": "preliminary-expansion",
   "metadata": {},
   "outputs": [],
   "source": [
    "_"
   ]
  }
 ],
 "metadata": {
  "environment": {
   "name": "r-cpu.3-6.m65",
   "type": "gcloud",
   "uri": "gcr.io/deeplearning-platform-release/r-cpu.3-6:m65"
  },
  "kernelspec": {
   "display_name": "Python 3",
   "language": "python",
   "name": "python3"
  },
  "language_info": {
   "codemirror_mode": {
    "name": "ipython",
    "version": 3
   },
   "file_extension": ".py",
   "mimetype": "text/x-python",
   "name": "python",
   "nbconvert_exporter": "python",
   "pygments_lexer": "ipython3",
   "version": "3.7.10"
  }
 },
 "nbformat": 4,
 "nbformat_minor": 5
}
