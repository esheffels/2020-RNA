{
 "cells": [
  {
   "cell_type": "code",
   "execution_count": 13,
   "id": "integral-commander",
   "metadata": {},
   "outputs": [],
   "source": [
    "library(tidyverse)\n",
    "library(tximport)\n",
    "library(DESeq2)"
   ]
  },
  {
   "cell_type": "code",
   "execution_count": 14,
   "id": "moved-guest",
   "metadata": {},
   "outputs": [],
   "source": [
    "file = \"t_data.ctab\""
   ]
  },
  {
   "cell_type": "code",
   "execution_count": 15,
   "id": "sitting-mills",
   "metadata": {},
   "outputs": [
    {
     "name": "stderr",
     "output_type": "stream",
     "text": [
      "\n",
      "\u001b[36m──\u001b[39m \u001b[1m\u001b[1mColumn specification\u001b[1m\u001b[22m \u001b[36m────────────────────────────────────────────────────────\u001b[39m\n",
      "cols(\n",
      "  t_id = \u001b[32mcol_double()\u001b[39m,\n",
      "  chr = \u001b[32mcol_double()\u001b[39m,\n",
      "  strand = \u001b[31mcol_character()\u001b[39m,\n",
      "  start = \u001b[32mcol_double()\u001b[39m,\n",
      "  end = \u001b[32mcol_double()\u001b[39m,\n",
      "  t_name = \u001b[31mcol_character()\u001b[39m,\n",
      "  num_exons = \u001b[32mcol_double()\u001b[39m,\n",
      "  length = \u001b[32mcol_double()\u001b[39m,\n",
      "  gene_id = \u001b[31mcol_character()\u001b[39m,\n",
      "  gene_name = \u001b[31mcol_character()\u001b[39m,\n",
      "  cov = \u001b[32mcol_double()\u001b[39m,\n",
      "  FPKM = \u001b[32mcol_double()\u001b[39m\n",
      ")\n",
      "\n",
      "\n",
      "Warning message:\n",
      "“25584 parsing failures.\n",
      "   row col expected     actual          file\n",
      "189583 chr a double GL000191.1 't_data.ctab'\n",
      "189584 chr a double GL000191.1 't_data.ctab'\n",
      "189585 chr a double GL000191.1 't_data.ctab'\n",
      "189586 chr a double GL000191.1 't_data.ctab'\n",
      "189587 chr a double GL000192.1 't_data.ctab'\n",
      "...... ... ........ .......... .............\n",
      "See problems(...) for more details.\n",
      "”\n",
      "reading in files with read_tsv\n",
      "\n",
      "1 \n",
      "\n",
      "\n",
      "summarizing abundance\n",
      "\n",
      "summarizing counts\n",
      "\n",
      "summarizing length\n",
      "\n"
     ]
    }
   ],
   "source": [
    "tmp <- read_tsv(file)\n",
    "tx2gene <- tmp[, c(\"t_name\", \"gene_name\")]\n",
    "txi <- tximport(file, type = \"stringtie\", tx2gene = tx2gene)"
   ]
  },
  {
   "cell_type": "code",
   "execution_count": 9,
   "id": "isolated-johnston",
   "metadata": {},
   "outputs": [],
   "source": [
    "sampleTable <- data.frame(condition = factor(rep(c(\"A\"), each = 1)))\n",
    "rownames(sampleTable) <- colnames(txi$counts)"
   ]
  },
  {
   "cell_type": "code",
   "execution_count": 16,
   "id": "physical-stroke",
   "metadata": {},
   "outputs": [
    {
     "data": {
      "text/html": [
       "<style>\n",
       ".list-inline {list-style: none; margin:0; padding: 0}\n",
       ".list-inline>li {display: inline-block}\n",
       ".list-inline>li:not(:last-child)::after {content: \"\\00b7\"; padding: 0 .5ex}\n",
       "</style>\n",
       "<ol class=list-inline><li>'abundance'</li><li>'counts'</li><li>'length'</li><li>'countsFromAbundance'</li></ol>\n"
      ],
      "text/latex": [
       "\\begin{enumerate*}\n",
       "\\item 'abundance'\n",
       "\\item 'counts'\n",
       "\\item 'length'\n",
       "\\item 'countsFromAbundance'\n",
       "\\end{enumerate*}\n"
      ],
      "text/markdown": [
       "1. 'abundance'\n",
       "2. 'counts'\n",
       "3. 'length'\n",
       "4. 'countsFromAbundance'\n",
       "\n",
       "\n"
      ],
      "text/plain": [
       "[1] \"abundance\"           \"counts\"              \"length\"             \n",
       "[4] \"countsFromAbundance\""
      ]
     },
     "metadata": {},
     "output_type": "display_data"
    }
   ],
   "source": [
    "names(txi)"
   ]
  },
  {
   "cell_type": "code",
   "execution_count": 19,
   "id": "forty-animation",
   "metadata": {},
   "outputs": [
    {
     "data": {
      "text/html": [
       "<table class=\"dataframe\">\n",
       "<caption>A matrix: 30 × 1 of type dbl</caption>\n",
       "<tbody>\n",
       "\t<tr><th scope=row>5S_rRNA</th><td>    0.000000</td></tr>\n",
       "\t<tr><th scope=row>7SK</th><td>   60.100913</td></tr>\n",
       "\t<tr><th scope=row>A1BG</th><td>  226.055937</td></tr>\n",
       "\t<tr><th scope=row>A1BG-AS1</th><td>  235.714062</td></tr>\n",
       "\t<tr><th scope=row>A1CF</th><td>    0.000000</td></tr>\n",
       "\t<tr><th scope=row>A2M</th><td>  585.026509</td></tr>\n",
       "\t<tr><th scope=row>A2M-AS1</th><td>  391.813501</td></tr>\n",
       "\t<tr><th scope=row>A2ML1</th><td>    0.000000</td></tr>\n",
       "\t<tr><th scope=row>A2ML1-AS1</th><td>    0.000000</td></tr>\n",
       "\t<tr><th scope=row>A2ML1-AS2</th><td>    0.000000</td></tr>\n",
       "\t<tr><th scope=row>A2MP1</th><td>    4.147511</td></tr>\n",
       "\t<tr><th scope=row>A3GALT2</th><td>    0.000000</td></tr>\n",
       "\t<tr><th scope=row>A4GALT</th><td> 1104.333255</td></tr>\n",
       "\t<tr><th scope=row>A4GNT</th><td>    0.000000</td></tr>\n",
       "\t<tr><th scope=row>AAAS</th><td> 5881.248997</td></tr>\n",
       "\t<tr><th scope=row>AACS</th><td> 5294.326793</td></tr>\n",
       "\t<tr><th scope=row>AACSP1</th><td>    0.000000</td></tr>\n",
       "\t<tr><th scope=row>AADAC</th><td>    0.000000</td></tr>\n",
       "\t<tr><th scope=row>AADACL2</th><td>    0.000000</td></tr>\n",
       "\t<tr><th scope=row>AADACL3</th><td>    0.000000</td></tr>\n",
       "\t<tr><th scope=row>AADACL4</th><td>    0.000000</td></tr>\n",
       "\t<tr><th scope=row>AADAT</th><td>   61.159990</td></tr>\n",
       "\t<tr><th scope=row>AAED1</th><td> 1513.413377</td></tr>\n",
       "\t<tr><th scope=row>AAGAB</th><td>10256.574005</td></tr>\n",
       "\t<tr><th scope=row>AAK1</th><td> 1489.666209</td></tr>\n",
       "\t<tr><th scope=row>AAMDC</th><td> 1633.568506</td></tr>\n",
       "\t<tr><th scope=row>AAMP</th><td>25753.090812</td></tr>\n",
       "\t<tr><th scope=row>AANAT</th><td>   11.506666</td></tr>\n",
       "\t<tr><th scope=row>AAR2</th><td> 6716.393385</td></tr>\n",
       "\t<tr><th scope=row>AARD</th><td>  300.453471</td></tr>\n",
       "</tbody>\n",
       "</table>\n"
      ],
      "text/latex": [
       "A matrix: 30 × 1 of type dbl\n",
       "\\begin{tabular}{r|l}\n",
       "\t5S\\_rRNA &     0.000000\\\\\n",
       "\t7SK &    60.100913\\\\\n",
       "\tA1BG &   226.055937\\\\\n",
       "\tA1BG-AS1 &   235.714062\\\\\n",
       "\tA1CF &     0.000000\\\\\n",
       "\tA2M &   585.026509\\\\\n",
       "\tA2M-AS1 &   391.813501\\\\\n",
       "\tA2ML1 &     0.000000\\\\\n",
       "\tA2ML1-AS1 &     0.000000\\\\\n",
       "\tA2ML1-AS2 &     0.000000\\\\\n",
       "\tA2MP1 &     4.147511\\\\\n",
       "\tA3GALT2 &     0.000000\\\\\n",
       "\tA4GALT &  1104.333255\\\\\n",
       "\tA4GNT &     0.000000\\\\\n",
       "\tAAAS &  5881.248997\\\\\n",
       "\tAACS &  5294.326793\\\\\n",
       "\tAACSP1 &     0.000000\\\\\n",
       "\tAADAC &     0.000000\\\\\n",
       "\tAADACL2 &     0.000000\\\\\n",
       "\tAADACL3 &     0.000000\\\\\n",
       "\tAADACL4 &     0.000000\\\\\n",
       "\tAADAT &    61.159990\\\\\n",
       "\tAAED1 &  1513.413377\\\\\n",
       "\tAAGAB & 10256.574005\\\\\n",
       "\tAAK1 &  1489.666209\\\\\n",
       "\tAAMDC &  1633.568506\\\\\n",
       "\tAAMP & 25753.090812\\\\\n",
       "\tAANAT &    11.506666\\\\\n",
       "\tAAR2 &  6716.393385\\\\\n",
       "\tAARD &   300.453471\\\\\n",
       "\\end{tabular}\n"
      ],
      "text/markdown": [
       "\n",
       "A matrix: 30 × 1 of type dbl\n",
       "\n",
       "| 5S_rRNA |     0.000000 |\n",
       "| 7SK |    60.100913 |\n",
       "| A1BG |   226.055937 |\n",
       "| A1BG-AS1 |   235.714062 |\n",
       "| A1CF |     0.000000 |\n",
       "| A2M |   585.026509 |\n",
       "| A2M-AS1 |   391.813501 |\n",
       "| A2ML1 |     0.000000 |\n",
       "| A2ML1-AS1 |     0.000000 |\n",
       "| A2ML1-AS2 |     0.000000 |\n",
       "| A2MP1 |     4.147511 |\n",
       "| A3GALT2 |     0.000000 |\n",
       "| A4GALT |  1104.333255 |\n",
       "| A4GNT |     0.000000 |\n",
       "| AAAS |  5881.248997 |\n",
       "| AACS |  5294.326793 |\n",
       "| AACSP1 |     0.000000 |\n",
       "| AADAC |     0.000000 |\n",
       "| AADACL2 |     0.000000 |\n",
       "| AADACL3 |     0.000000 |\n",
       "| AADACL4 |     0.000000 |\n",
       "| AADAT |    61.159990 |\n",
       "| AAED1 |  1513.413377 |\n",
       "| AAGAB | 10256.574005 |\n",
       "| AAK1 |  1489.666209 |\n",
       "| AAMDC |  1633.568506 |\n",
       "| AAMP | 25753.090812 |\n",
       "| AANAT |    11.506666 |\n",
       "| AAR2 |  6716.393385 |\n",
       "| AARD |   300.453471 |\n",
       "\n"
      ],
      "text/plain": [
       "          [,1]        \n",
       "5S_rRNA       0.000000\n",
       "7SK          60.100913\n",
       "A1BG        226.055937\n",
       "A1BG-AS1    235.714062\n",
       "A1CF          0.000000\n",
       "A2M         585.026509\n",
       "A2M-AS1     391.813501\n",
       "A2ML1         0.000000\n",
       "A2ML1-AS1     0.000000\n",
       "A2ML1-AS2     0.000000\n",
       "A2MP1         4.147511\n",
       "A3GALT2       0.000000\n",
       "A4GALT     1104.333255\n",
       "A4GNT         0.000000\n",
       "AAAS       5881.248997\n",
       "AACS       5294.326793\n",
       "AACSP1        0.000000\n",
       "AADAC         0.000000\n",
       "AADACL2       0.000000\n",
       "AADACL3       0.000000\n",
       "AADACL4       0.000000\n",
       "AADAT        61.159990\n",
       "AAED1      1513.413377\n",
       "AAGAB     10256.574005\n",
       "AAK1       1489.666209\n",
       "AAMDC      1633.568506\n",
       "AAMP      25753.090812\n",
       "AANAT        11.506666\n",
       "AAR2       6716.393385\n",
       "AARD        300.453471"
      ]
     },
     "metadata": {},
     "output_type": "display_data"
    }
   ],
   "source": [
    "head(txi$counts, n=30)"
   ]
  },
  {
   "cell_type": "code",
   "execution_count": 22,
   "id": "controversial-column",
   "metadata": {},
   "outputs": [],
   "source": [
    "txi$counts_normalized <- txi$counts / 5294.326793"
   ]
  },
  {
   "cell_type": "code",
   "execution_count": 23,
   "id": "great-truck",
   "metadata": {},
   "outputs": [],
   "source": [
    "write.csv(txi, \"stringtie_counts.csv\", row.names = TRUE)"
   ]
  },
  {
   "cell_type": "code",
   "execution_count": null,
   "id": "known-amber",
   "metadata": {},
   "outputs": [],
   "source": []
  }
 ],
 "metadata": {
  "environment": {
   "name": "r-cpu.3-6.m65",
   "type": "gcloud",
   "uri": "gcr.io/deeplearning-platform-release/r-cpu.3-6:m65"
  },
  "kernelspec": {
   "display_name": "R",
   "language": "R",
   "name": "ir"
  },
  "language_info": {
   "codemirror_mode": "r",
   "file_extension": ".r",
   "mimetype": "text/x-r-source",
   "name": "R",
   "pygments_lexer": "r",
   "version": "3.6.3"
  }
 },
 "nbformat": 4,
 "nbformat_minor": 5
}
